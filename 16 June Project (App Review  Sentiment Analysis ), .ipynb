{
 "cells": [
  {
   "cell_type": "code",
   "execution_count": 21,
   "id": "20c156a7-16e8-4d9a-bea9-96ebbe597eb3",
   "metadata": {},
   "outputs": [],
   "source": [
    "import numpy as np \n",
    "import pandas as pd "
   ]
  },
  {
   "cell_type": "code",
   "execution_count": 3,
   "id": "1180855c-acc7-45dc-a681-fe9fc81d3564",
   "metadata": {},
   "outputs": [],
   "source": [
    "df = pd.read_csv(\"C:\\\\Users\\\\HP\\\\Downloads\\\\linkedin-reviews - linkedin-reviews.csv\")"
   ]
  },
  {
   "cell_type": "code",
   "execution_count": 4,
   "id": "9a7a46ae-9004-4ccd-bb7f-214cf1c34701",
   "metadata": {},
   "outputs": [],
   "source": [
    "import matplotlib.pyplot as plt\n",
    "import seaborn as sns "
   ]
  },
  {
   "cell_type": "code",
   "execution_count": 5,
   "id": "88c503de-144c-4304-b589-b65ced1505e8",
   "metadata": {},
   "outputs": [
    {
     "name": "stdout",
     "output_type": "stream",
     "text": [
      "<class 'pandas.core.frame.DataFrame'>\n",
      "RangeIndex: 702 entries, 0 to 701\n",
      "Data columns (total 2 columns):\n",
      " #   Column  Non-Null Count  Dtype \n",
      "---  ------  --------------  ----- \n",
      " 0   Review  702 non-null    object\n",
      " 1   Rating  702 non-null    int64 \n",
      "dtypes: int64(1), object(1)\n",
      "memory usage: 11.1+ KB\n"
     ]
    }
   ],
   "source": [
    "df.info()"
   ]
  },
  {
   "cell_type": "markdown",
   "id": "dc633f71-55b8-4fd4-a94c-84ef40948b38",
   "metadata": {},
   "source": [
    "## Exploratory Data Analysis "
   ]
  },
  {
   "cell_type": "markdown",
   "id": "6e1d0dff-76b4-4b69-92cc-2082d4961893",
   "metadata": {},
   "source": [
    "we will start by analyzing the distribution of ratings. it will provide insight into the overall sentiment of the reviews . Then we can explore further , such as analyzing the length of reviews  ,  and posasibly desire insights from the text of the reviews . "
   ]
  },
  {
   "cell_type": "markdown",
   "id": "3df74c16-b6ca-4405-ab9b-9c681750f1c4",
   "metadata": {},
   "source": [
    "## Plotting the Distribution of Ratings "
   ]
  },
  {
   "cell_type": "code",
   "execution_count": 9,
   "id": "79abac08-0f6d-44b4-b9cb-962f8cc9f9dd",
   "metadata": {},
   "outputs": [
    {
     "data": {
      "image/png": "[encoded data removed]",
      "text/plain": [
       "<Figure size 900x500 with 1 Axes>"
      ]
     },
     "metadata": {},
     "output_type": "display_data"
    }
   ],
   "source": [
    "sns.set(style = 'whitegrid')\n",
    "plt.figure(figsize = (9,5))\n",
    "sns.countplot(data = df , x = 'Rating')\n",
    "plt.title('Distribution of Ratings')\n",
    "plt.xlabel('Rating')\n",
    "plt.ylabel('Count')\n",
    "plt.show()"
   ]
  },
  {
   "cell_type": "markdown",
   "id": "fb1e965a-c3cd-4601-9a19-f1b5f0928aef",
   "metadata": {},
   "source": [
    "# Adding Sentiment Labels in the Data "
   ]
  },
  {
   "cell_type": "markdown",
   "id": "4b02501f-b678-418a-ad49-9167afb3254c",
   "metadata": {},
   "source": [
    "we will use Textblob library . Textblob provides a polarity scores raning from -1(very negative) to 1 (very positive)\n",
    "for a given text . We can usethis score to classify each review's sentimnet as positive , netural OR negative ."
   ]
  },
  {
   "cell_type": "code",
   "execution_count": 11,
   "id": "fe7fe96c-0fbe-4e73-9c51-ded3f0299a89",
   "metadata": {},
   "outputs": [
    {
     "name": "stdout",
     "output_type": "stream",
     "text": [
      "Requirement already satisfied: textblob in c:\\users\\hp\\anaconda3\\lib\\site-packages (0.19.0)\n",
      "Requirement already satisfied: nltk>=3.9 in c:\\users\\hp\\anaconda3\\lib\\site-packages (from textblob) (3.9.1)\n",
      "Requirement already satisfied: click in c:\\users\\hp\\anaconda3\\lib\\site-packages (from nltk>=3.9->textblob) (8.1.7)\n",
      "Requirement already satisfied: joblib in c:\\users\\hp\\anaconda3\\lib\\site-packages (from nltk>=3.9->textblob) (1.4.2)\n",
      "Requirement already satisfied: regex>=2021.8.3 in c:\\users\\hp\\anaconda3\\lib\\site-packages (from nltk>=3.9->textblob) (2024.9.11)\n",
      "Requirement already satisfied: tqdm in c:\\users\\hp\\anaconda3\\lib\\site-packages (from nltk>=3.9->textblob) (4.66.5)\n",
      "Requirement already satisfied: colorama in c:\\users\\hp\\anaconda3\\lib\\site-packages (from click->nltk>=3.9->textblob) (0.4.6)\n",
      "Note: you may need to restart the kernel to use updated packages.\n"
     ]
    }
   ],
   "source": [
    "\n",
    "pip install textblob"
   ]
  },
  {
   "cell_type": "code",
   "execution_count": 12,
   "id": "b7de3cce-0843-47c8-a810-f11df5ca0fa8",
   "metadata": {},
   "outputs": [],
   "source": [
    "from textblob import TextBlob"
   ]
  },
  {
   "cell_type": "code",
   "execution_count": 13,
   "id": "abe1ceae-5e51-4e30-a5a1-a0c20372472e",
   "metadata": {},
   "outputs": [],
   "source": [
    "def textblob_sentiment_analysis(review):\n",
    "    sentiment = TextBlob(review).sentiment\n",
    "    if sentiment.polarity > 0.1:\n",
    "        return \"Positive\"\n",
    "\n",
    "    elif sentiment.polarity < -0.1 :\n",
    "        return \"Negative\"\n",
    "\n",
    "    else :\n",
    "        return \"Netural\""
   ]
  },
  {
   "cell_type": "code",
   "execution_count": 15,
   "id": "5486a3ac-95ab-4e6d-a2e3-57012803ac14",
   "metadata": {},
   "outputs": [],
   "source": [
    "df['Sentiment'] = df ['Review'].apply(textblob_sentiment_analysis)"
   ]
  },
  {
   "cell_type": "code",
   "execution_count": 16,
   "id": "35131bb6-197c-4c4b-a21b-35e9176abd12",
   "metadata": {},
   "outputs": [
    {
     "data": {
      "text/html": [
       "<div>\n",
       "<style scoped>\n",
       "    .dataframe tbody tr th:only-of-type {\n",
       "        vertical-align: middle;\n",
       "    }\n",
       "\n",
       "    .dataframe tbody tr th {\n",
       "        vertical-align: top;\n",
       "    }\n",
       "\n",
       "    .dataframe thead th {\n",
       "        text-align: right;\n",
       "    }\n",
       "</style>\n",
       "<table border=\"1\" class=\"dataframe\">\n",
       "  <thead>\n",
       "    <tr style=\"text-align: right;\">\n",
       "      <th></th>\n",
       "      <th>Review</th>\n",
       "      <th>Rating</th>\n",
       "      <th>Sentiment</th>\n",
       "    </tr>\n",
       "  </thead>\n",
       "  <tbody>\n",
       "    <tr>\n",
       "      <th>184</th>\n",
       "      <td>Cannot edit profile...minus points!</td>\n",
       "      <td>3</td>\n",
       "      <td>Netural</td>\n",
       "    </tr>\n",
       "    <tr>\n",
       "      <th>519</th>\n",
       "      <td>Has features we expect-contact integration, gr...</td>\n",
       "      <td>4</td>\n",
       "      <td>Netural</td>\n",
       "    </tr>\n",
       "    <tr>\n",
       "      <th>371</th>\n",
       "      <td>Great for keeping up, but doesn't replace pc</td>\n",
       "      <td>4</td>\n",
       "      <td>Positive</td>\n",
       "    </tr>\n",
       "    <tr>\n",
       "      <th>451</th>\n",
       "      <td>Someone pls fix this app.</td>\n",
       "      <td>1</td>\n",
       "      <td>Netural</td>\n",
       "    </tr>\n",
       "    <tr>\n",
       "      <th>52</th>\n",
       "      <td>Forces close on every action was working till ...</td>\n",
       "      <td>3</td>\n",
       "      <td>Netural</td>\n",
       "    </tr>\n",
       "  </tbody>\n",
       "</table>\n",
       "</div>"
      ],
      "text/plain": [
       "                                                Review  Rating Sentiment\n",
       "184                Cannot edit profile...minus points!       3   Netural\n",
       "519  Has features we expect-contact integration, gr...       4   Netural\n",
       "371       Great for keeping up, but doesn't replace pc       4  Positive\n",
       "451                          Someone pls fix this app.       1   Netural\n",
       "52   Forces close on every action was working till ...       3   Netural"
      ]
     },
     "execution_count": 16,
     "metadata": {},
     "output_type": "execute_result"
    }
   ],
   "source": [
    "df.sample(5)"
   ]
  },
  {
   "cell_type": "markdown",
   "id": "97016da1-d4e1-472c-985a-476178acccb3",
   "metadata": {},
   "source": [
    "## Anayzing App Review Sentiments "
   ]
  },
  {
   "cell_type": "code",
   "execution_count": 17,
   "id": "ddf04f76-a184-4a49-a221-a83184439654",
   "metadata": {},
   "outputs": [
    {
     "data": {
      "text/plain": [
       "Sentiment\n",
       "Netural     300\n",
       "Positive    295\n",
       "Negative    107\n",
       "Name: count, dtype: int64"
      ]
     },
     "execution_count": 17,
     "metadata": {},
     "output_type": "execute_result"
    }
   ],
   "source": [
    "sentiment_distribution = df['Sentiment'].value_counts()\n",
    "sentiment_distribution"
   ]
  },
  {
   "cell_type": "code",
   "execution_count": 19,
   "id": "ce08f2d3-8602-45e6-975a-b0498f700f69",
   "metadata": {},
   "outputs": [
    {
     "data": {
      "image/png": "[encoded data removed]",
      "text/plain": [
       "<Figure size 900x500 with 1 Axes>"
      ]
     },
     "metadata": {},
     "output_type": "display_data"
    }
   ],
   "source": [
    "plt.figure(figsize = (9,5))\n",
    "sns.barplot(x= sentiment_distribution.index,\n",
    "            y = sentiment_distribution.values )\n",
    "\n",
    "plt.title('Distribution of sentiments ')\n",
    "\n",
    "plt.xlabel('Sentiment')\n",
    "plt.ylabel('Count')\n",
    "plt.show()"
   ]
  },
  {
   "cell_type": "markdown",
   "id": "ab873b64-9d54-458d-8c73-b1e4b64c84db",
   "metadata": {},
   "source": [
    "## so , we can see althrough the appp has low rating , still the reviews don't use many negative words in the reviews for the app . "
   ]
  },
  {
   "cell_type": "markdown",
   "id": "2ea7c708-1d0c-4d72-b463-2cd35fbbef6b",
   "metadata": {},
   "source": [
    "Next , we'll explore the relationshop between sentiments and the ratings .  This analysis  can help us understand \n",
    "whether there is a correlation betweeen the sentimnets of the text and numerical ratings . "
   ]
  },
  {
   "cell_type": "code",
   "execution_count": null,
   "id": "4519abd6-cd95-442a-adf5-9a79db392db7",
   "metadata": {},
   "outputs": [],
   "source": []
  },
  {
   "cell_type": "code",
   "execution_count": null,
   "id": "d5c4dede-3807-4121-9b72-443d97160632",
   "metadata": {},
   "outputs": [],
   "source": []
  },
  {
   "cell_type": "code",
   "execution_count": 22,
   "id": "640cff0d-5b3a-4669-ba6f-3f8d038201d7",
   "metadata": {},
   "outputs": [
    {
     "data": {
      "image/png": "[encoded data removed]",
      "text/plain": [
       "<Figure size 1000x500 with 1 Axes>"
      ]
     },
     "metadata": {},
     "output_type": "display_data"
    }
   ],
   "source": [
    "plt.figure(figsize = (10,5))\n",
    "sns.countplot(data = df ,\n",
    "             x = 'Rating' , hue = 'Sentiment')\n",
    "\n",
    "\n",
    "plt.xlabel('Rating')\n",
    "plt.ylabel('Count')\n",
    "plt.legend(title = 'Sentiment')\n",
    "plt.show()"
   ]
  },
  {
   "cell_type": "markdown",
   "id": "d6ffadab-3561-4bc9-9375-2d5add7ff2d8",
   "metadata": {},
   "source": [
    "## Summary "
   ]
  },
  {
   "cell_type": "markdown",
   "id": "6ffd8ecd-c8a6-4357-925b-7b108caac18f",
   "metadata": {},
   "source": [
    "Summary\n",
    "App reviews sentiment analysis is a valuable tool for app developers and businesses to understand user feedback, prioritize feature updates, and maintain a positive user community. It involves using data analysis techniques to determine whether the sentiments expressed in reviews are positive, negative, or neutral."
   ]
  },
  {
   "cell_type": "code",
   "execution_count": null,
   "id": "14d208ad-e836-4ceb-8179-f87b1f3977d8",
   "metadata": {},
   "outputs": [],
   "source": []
  }
 ],
 "metadata": {
  "kernelspec": {
   "display_name": "Python 3 (ipykernel)",
   "language": "python",
   "name": "python3"
  },
  "language_info": {
   "codemirror_mode": {
    "name": "ipython",
    "version": 3
   },
   "file_extension": ".py",
   "mimetype": "text/x-python",
   "name": "python",
   "nbconvert_exporter": "python",
   "pygments_lexer": "ipython3",
   "version": "3.12.7"
  }
 },
 "nbformat": 4,
 "nbformat_minor": 5
}
