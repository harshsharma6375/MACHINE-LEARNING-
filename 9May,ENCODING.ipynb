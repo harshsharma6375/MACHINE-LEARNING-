{
 "cells": [
  {
   "cell_type": "markdown",
   "id": "be7d1f53-d5a3-49b0-81b2-082a4f0eeb6f",
   "metadata": {},
   "source": [
    "# ENCODING --> "
   ]
  },
  {
   "cell_type": "markdown",
   "id": "c69bea8d-a84e-4313-a617-d2c3323830a4",
   "metadata": {},
   "source": [
    "using this method , we can convert our categorical data into numerical data"
   ]
  },
  {
   "cell_type": "code",
   "execution_count": null,
   "id": "86742d54-e745-4e70-9854-16b88331f323",
   "metadata": {
    "jp-MarkdownHeadingCollapsed": true
   },
   "outputs": [],
   "source": []
  },
  {
   "cell_type": "code",
   "execution_count": null,
   "id": "a798cb98-d1de-41ac-af0b-837a3c42878e",
   "metadata": {},
   "outputs": [],
   "source": [
    "import pandas as pd \n",
    "import numpy as np "
   ]
  },
  {
   "cell_type": "markdown",
   "id": "b6d46a6f-e318-48bb-a199-63cf79939320",
   "metadata": {
    "jp-MarkdownHeadingCollapsed": true
   },
   "source": [
    "There are four types of encoding techniques .\n",
    "\n",
    "1) LabelEncoding --> Transform categorical data into Numerical data but it will only\n",
    "#single - single column . It will automatically decode which value pass to the which sub - category . \n",
    "\n",
    "2) OrdinalEncoding -->  Transform categorical data into Numerical data but it will on\n",
    "#multiple column . It will automatically decode which value pass to the which sub - category . \n",
    "\n",
    "3) OneHotEncodind --> Transform categorical data into Numerical data but it will create\n",
    "#new column based on sub -categories which you mentioned in your column .It will not provide your column name .\n",
    "#column Survived(Yes,No) --> Survived_Yes , Survived_No\n",
    "\n",
    "4) Get_dummies --> Transform categorical data into Numerical data but it will create \n",
    "#new column based on sub-categories which you mentioned in your column \n",
    "#but it will provide you  column name also. \n",
    "#column Survived(Yes,No) --> Survived_Yes , Survived_No"
   ]
  },
  {
   "cell_type": "markdown",
   "id": "626f0573-8d54-4466-b973-a302c7d905cc",
   "metadata": {
    "jp-MarkdownHeadingCollapsed": true
   },
   "source": []
  },
  {
   "cell_type": "markdown",
   "id": "f31b24d4-6a67-4a33-9a70-bf4dcddaaa60",
   "metadata": {},
   "source": [
    "## LABEL ENCODING"
   ]
  },
  {
   "cell_type": "code",
   "execution_count": 4,
   "id": "70e0007b-0210-499d-bf01-67c96f1a6dbe",
   "metadata": {},
   "outputs": [],
   "source": [
    "df = pd.read_csv(\"C:\\\\Users\\\\HP\\\\OneDrive\\\\Desktop\\\\DATASET\\\\covid_toy - covid_toy.csv\")"
   ]
  },
  {
   "cell_type": "code",
   "execution_count": 5,
   "id": "debb5392-cb71-4d41-9e7a-3595717ffbb9",
   "metadata": {},
   "outputs": [
    {
     "data": {
      "text/html": [
       "<div>\n",
       "<style scoped>\n",
       "    .dataframe tbody tr th:only-of-type {\n",
       "        vertical-align: middle;\n",
       "    }\n",
       "\n",
       "    .dataframe tbody tr th {\n",
       "        vertical-align: top;\n",
       "    }\n",
       "\n",
       "    .dataframe thead th {\n",
       "        text-align: right;\n",
       "    }\n",
       "</style>\n",
       "<table border=\"1\" class=\"dataframe\">\n",
       "  <thead>\n",
       "    <tr style=\"text-align: right;\">\n",
       "      <th></th>\n",
       "      <th>age</th>\n",
       "      <th>gender</th>\n",
       "      <th>fever</th>\n",
       "      <th>cough</th>\n",
       "      <th>city</th>\n",
       "      <th>has_covid</th>\n",
       "    </tr>\n",
       "  </thead>\n",
       "  <tbody>\n",
       "    <tr>\n",
       "      <th>0</th>\n",
       "      <td>60</td>\n",
       "      <td>Male</td>\n",
       "      <td>103.0</td>\n",
       "      <td>Mild</td>\n",
       "      <td>Kolkata</td>\n",
       "      <td>No</td>\n",
       "    </tr>\n",
       "    <tr>\n",
       "      <th>1</th>\n",
       "      <td>27</td>\n",
       "      <td>Male</td>\n",
       "      <td>100.0</td>\n",
       "      <td>Mild</td>\n",
       "      <td>Delhi</td>\n",
       "      <td>Yes</td>\n",
       "    </tr>\n",
       "    <tr>\n",
       "      <th>2</th>\n",
       "      <td>42</td>\n",
       "      <td>Male</td>\n",
       "      <td>101.0</td>\n",
       "      <td>Mild</td>\n",
       "      <td>Delhi</td>\n",
       "      <td>No</td>\n",
       "    </tr>\n",
       "  </tbody>\n",
       "</table>\n",
       "</div>"
      ],
      "text/plain": [
       "   age gender  fever cough     city has_covid\n",
       "0   60   Male  103.0  Mild  Kolkata        No\n",
       "1   27   Male  100.0  Mild    Delhi       Yes\n",
       "2   42   Male  101.0  Mild    Delhi        No"
      ]
     },
     "execution_count": 5,
     "metadata": {},
     "output_type": "execute_result"
    }
   ],
   "source": [
    "df.head(3)"
   ]
  },
  {
   "cell_type": "code",
   "execution_count": 6,
   "id": "512dfc83-0b21-4227-9209-aee12efd15ff",
   "metadata": {},
   "outputs": [
    {
     "data": {
      "text/plain": [
       "age           0\n",
       "gender        0\n",
       "fever        10\n",
       "cough         0\n",
       "city          0\n",
       "has_covid     0\n",
       "dtype: int64"
      ]
     },
     "execution_count": 6,
     "metadata": {},
     "output_type": "execute_result"
    }
   ],
   "source": [
    "df.isnull().sum()"
   ]
  },
  {
   "cell_type": "code",
   "execution_count": 7,
   "id": "e4345a82-e16c-416a-aab2-265f95104bdc",
   "metadata": {},
   "outputs": [],
   "source": [
    "from sklearn.impute import SimpleImputer"
   ]
  },
  {
   "cell_type": "code",
   "execution_count": 8,
   "id": "7fc0d471-bd34-4fd6-9fde-6e1c1292d5cf",
   "metadata": {},
   "outputs": [],
   "source": [
    "si = SimpleImputer()"
   ]
  },
  {
   "cell_type": "code",
   "execution_count": 9,
   "id": "ed2b7d07-7206-4693-9edc-4c9f57e7ee21",
   "metadata": {},
   "outputs": [],
   "source": [
    "df['fever'] = si.fit_transform(df[['fever']])"
   ]
  },
  {
   "cell_type": "code",
   "execution_count": 10,
   "id": "bac42aca-c96a-4889-b402-e8d115d4bebc",
   "metadata": {},
   "outputs": [
    {
     "data": {
      "text/html": [
       "<div>\n",
       "<style scoped>\n",
       "    .dataframe tbody tr th:only-of-type {\n",
       "        vertical-align: middle;\n",
       "    }\n",
       "\n",
       "    .dataframe tbody tr th {\n",
       "        vertical-align: top;\n",
       "    }\n",
       "\n",
       "    .dataframe thead th {\n",
       "        text-align: right;\n",
       "    }\n",
       "</style>\n",
       "<table border=\"1\" class=\"dataframe\">\n",
       "  <thead>\n",
       "    <tr style=\"text-align: right;\">\n",
       "      <th></th>\n",
       "      <th>age</th>\n",
       "      <th>gender</th>\n",
       "      <th>fever</th>\n",
       "      <th>cough</th>\n",
       "      <th>city</th>\n",
       "      <th>has_covid</th>\n",
       "    </tr>\n",
       "  </thead>\n",
       "  <tbody>\n",
       "    <tr>\n",
       "      <th>0</th>\n",
       "      <td>60</td>\n",
       "      <td>Male</td>\n",
       "      <td>103.0</td>\n",
       "      <td>Mild</td>\n",
       "      <td>Kolkata</td>\n",
       "      <td>No</td>\n",
       "    </tr>\n",
       "    <tr>\n",
       "      <th>1</th>\n",
       "      <td>27</td>\n",
       "      <td>Male</td>\n",
       "      <td>100.0</td>\n",
       "      <td>Mild</td>\n",
       "      <td>Delhi</td>\n",
       "      <td>Yes</td>\n",
       "    </tr>\n",
       "    <tr>\n",
       "      <th>2</th>\n",
       "      <td>42</td>\n",
       "      <td>Male</td>\n",
       "      <td>101.0</td>\n",
       "      <td>Mild</td>\n",
       "      <td>Delhi</td>\n",
       "      <td>No</td>\n",
       "    </tr>\n",
       "  </tbody>\n",
       "</table>\n",
       "</div>"
      ],
      "text/plain": [
       "   age gender  fever cough     city has_covid\n",
       "0   60   Male  103.0  Mild  Kolkata        No\n",
       "1   27   Male  100.0  Mild    Delhi       Yes\n",
       "2   42   Male  101.0  Mild    Delhi        No"
      ]
     },
     "execution_count": 10,
     "metadata": {},
     "output_type": "execute_result"
    }
   ],
   "source": [
    "df.head(3)"
   ]
  },
  {
   "cell_type": "code",
   "execution_count": 11,
   "id": "ad5d4c6d-a45c-488a-a6ea-1bf5ac93c6a5",
   "metadata": {},
   "outputs": [],
   "source": [
    "from sklearn.preprocessing import LabelEncoder "
   ]
  },
  {
   "cell_type": "code",
   "execution_count": 12,
   "id": "5e7bb2b1-9fb5-4ae2-8694-9569fc7d2234",
   "metadata": {},
   "outputs": [
    {
     "data": {
      "text/plain": [
       "age          0\n",
       "gender       0\n",
       "fever        0\n",
       "cough        0\n",
       "city         0\n",
       "has_covid    0\n",
       "dtype: int64"
      ]
     },
     "execution_count": 12,
     "metadata": {},
     "output_type": "execute_result"
    }
   ],
   "source": [
    "df.isnull().sum()"
   ]
  },
  {
   "cell_type": "code",
   "execution_count": 13,
   "id": "f080e62a-646e-4bb5-ba9d-be5ce9760943",
   "metadata": {},
   "outputs": [],
   "source": [
    "lb  = LabelEncoder()"
   ]
  },
  {
   "cell_type": "code",
   "execution_count": 14,
   "id": "f3971fbd-0aae-42d0-b3ab-0be48d40d250",
   "metadata": {},
   "outputs": [],
   "source": [
    "df['gender'] = lb.fit_transform(df['gender'])\n",
    "df['cough'] = lb.fit_transform(df['cough'])\n",
    "df['city'] = lb.fit_transform(df['city'])\n",
    "df['has_covid'] = lb.fit_transform(df['has_covid'])"
   ]
  },
  {
   "cell_type": "code",
   "execution_count": 15,
   "id": "22f15094-3421-47e2-8f73-95a28cc6d258",
   "metadata": {},
   "outputs": [
    {
     "data": {
      "text/html": [
       "<div>\n",
       "<style scoped>\n",
       "    .dataframe tbody tr th:only-of-type {\n",
       "        vertical-align: middle;\n",
       "    }\n",
       "\n",
       "    .dataframe tbody tr th {\n",
       "        vertical-align: top;\n",
       "    }\n",
       "\n",
       "    .dataframe thead th {\n",
       "        text-align: right;\n",
       "    }\n",
       "</style>\n",
       "<table border=\"1\" class=\"dataframe\">\n",
       "  <thead>\n",
       "    <tr style=\"text-align: right;\">\n",
       "      <th></th>\n",
       "      <th>age</th>\n",
       "      <th>gender</th>\n",
       "      <th>fever</th>\n",
       "      <th>cough</th>\n",
       "      <th>city</th>\n",
       "      <th>has_covid</th>\n",
       "    </tr>\n",
       "  </thead>\n",
       "  <tbody>\n",
       "    <tr>\n",
       "      <th>0</th>\n",
       "      <td>60</td>\n",
       "      <td>1</td>\n",
       "      <td>103.0</td>\n",
       "      <td>0</td>\n",
       "      <td>2</td>\n",
       "      <td>0</td>\n",
       "    </tr>\n",
       "    <tr>\n",
       "      <th>11</th>\n",
       "      <td>65</td>\n",
       "      <td>0</td>\n",
       "      <td>98.0</td>\n",
       "      <td>0</td>\n",
       "      <td>3</td>\n",
       "      <td>1</td>\n",
       "    </tr>\n",
       "    <tr>\n",
       "      <th>4</th>\n",
       "      <td>65</td>\n",
       "      <td>0</td>\n",
       "      <td>101.0</td>\n",
       "      <td>0</td>\n",
       "      <td>3</td>\n",
       "      <td>0</td>\n",
       "    </tr>\n",
       "  </tbody>\n",
       "</table>\n",
       "</div>"
      ],
      "text/plain": [
       "    age  gender  fever  cough  city  has_covid\n",
       "0    60       1  103.0      0     2          0\n",
       "11   65       0   98.0      0     3          1\n",
       "4    65       0  101.0      0     3          0"
      ]
     },
     "execution_count": 15,
     "metadata": {},
     "output_type": "execute_result"
    }
   ],
   "source": [
    "df.sample(3)"
   ]
  },
  {
   "cell_type": "code",
   "execution_count": 16,
   "id": "2a97e4fc-e9bd-4d20-b614-20220e8b8142",
   "metadata": {},
   "outputs": [],
   "source": [
    "x = df.drop(columns = ['has_covid']) # coverting data\n",
    "y = df['has_covid']"
   ]
  },
  {
   "cell_type": "code",
   "execution_count": 17,
   "id": "3636a6a5-ea4f-4a86-a406-0d7c5358b92d",
   "metadata": {},
   "outputs": [],
   "source": [
    "from sklearn.model_selection import train_test_split"
   ]
  },
  {
   "cell_type": "code",
   "execution_count": 18,
   "id": "f3b246b0-8056-4961-a541-9596b1b4e799",
   "metadata": {},
   "outputs": [],
   "source": [
    "x_train , x_test , y_train , y_test = train_test_split(x,y,test_size = 0.2 , random_state = 42)"
   ]
  },
  {
   "cell_type": "code",
   "execution_count": 19,
   "id": "fbd72ab4-c79a-4bee-8e29-04f03a6fcb97",
   "metadata": {},
   "outputs": [],
   "source": [
    "from sklearn.preprocessing import StandardScaler  # standardization process occurs from here "
   ]
  },
  {
   "cell_type": "code",
   "execution_count": 20,
   "id": "b6a11767-6050-493c-a939-a03522f1ab98",
   "metadata": {},
   "outputs": [],
   "source": [
    "sc = StandardScaler()"
   ]
  },
  {
   "cell_type": "code",
   "execution_count": 21,
   "id": "5d32272a-5fc0-4116-afc2-c97bd930f0ce",
   "metadata": {},
   "outputs": [],
   "source": [
    "x_train_sc = sc.fit_transform(x_train)"
   ]
  },
  {
   "cell_type": "code",
   "execution_count": 22,
   "id": "5f770d3e-cf8c-4284-8d76-5c9729675559",
   "metadata": {},
   "outputs": [],
   "source": [
    "x_train_new = pd.DataFrame(x_train_sc , columns = x_train.columns)"
   ]
  },
  {
   "cell_type": "code",
   "execution_count": 23,
   "id": "62a70120-7c28-4a8e-ab97-49332a1fc254",
   "metadata": {},
   "outputs": [
    {
     "data": {
      "text/html": [
       "<div>\n",
       "<style scoped>\n",
       "    .dataframe tbody tr th:only-of-type {\n",
       "        vertical-align: middle;\n",
       "    }\n",
       "\n",
       "    .dataframe tbody tr th {\n",
       "        vertical-align: top;\n",
       "    }\n",
       "\n",
       "    .dataframe thead th {\n",
       "        text-align: right;\n",
       "    }\n",
       "</style>\n",
       "<table border=\"1\" class=\"dataframe\">\n",
       "  <thead>\n",
       "    <tr style=\"text-align: right;\">\n",
       "      <th></th>\n",
       "      <th>age</th>\n",
       "      <th>gender</th>\n",
       "      <th>fever</th>\n",
       "      <th>cough</th>\n",
       "      <th>city</th>\n",
       "    </tr>\n",
       "  </thead>\n",
       "  <tbody>\n",
       "    <tr>\n",
       "      <th>count</th>\n",
       "      <td>80.00</td>\n",
       "      <td>80.00</td>\n",
       "      <td>80.00</td>\n",
       "      <td>80.00</td>\n",
       "      <td>80.00</td>\n",
       "    </tr>\n",
       "    <tr>\n",
       "      <th>mean</th>\n",
       "      <td>-0.00</td>\n",
       "      <td>0.00</td>\n",
       "      <td>-0.00</td>\n",
       "      <td>-0.00</td>\n",
       "      <td>-0.00</td>\n",
       "    </tr>\n",
       "    <tr>\n",
       "      <th>std</th>\n",
       "      <td>1.01</td>\n",
       "      <td>1.01</td>\n",
       "      <td>1.01</td>\n",
       "      <td>1.01</td>\n",
       "      <td>1.01</td>\n",
       "    </tr>\n",
       "    <tr>\n",
       "      <th>min</th>\n",
       "      <td>-1.56</td>\n",
       "      <td>-0.84</td>\n",
       "      <td>-1.56</td>\n",
       "      <td>-0.82</td>\n",
       "      <td>-1.17</td>\n",
       "    </tr>\n",
       "    <tr>\n",
       "      <th>25%</th>\n",
       "      <td>-0.94</td>\n",
       "      <td>-0.84</td>\n",
       "      <td>-0.51</td>\n",
       "      <td>-0.82</td>\n",
       "      <td>-1.17</td>\n",
       "    </tr>\n",
       "    <tr>\n",
       "      <th>50%</th>\n",
       "      <td>-0.04</td>\n",
       "      <td>-0.84</td>\n",
       "      <td>0.01</td>\n",
       "      <td>-0.82</td>\n",
       "      <td>-0.27</td>\n",
       "    </tr>\n",
       "    <tr>\n",
       "      <th>75%</th>\n",
       "      <td>0.91</td>\n",
       "      <td>1.19</td>\n",
       "      <td>0.53</td>\n",
       "      <td>1.22</td>\n",
       "      <td>0.63</td>\n",
       "    </tr>\n",
       "    <tr>\n",
       "      <th>max</th>\n",
       "      <td>1.69</td>\n",
       "      <td>1.19</td>\n",
       "      <td>1.57</td>\n",
       "      <td>1.22</td>\n",
       "      <td>1.53</td>\n",
       "    </tr>\n",
       "  </tbody>\n",
       "</table>\n",
       "</div>"
      ],
      "text/plain": [
       "         age  gender  fever  cough   city\n",
       "count  80.00   80.00  80.00  80.00  80.00\n",
       "mean   -0.00    0.00  -0.00  -0.00  -0.00\n",
       "std     1.01    1.01   1.01   1.01   1.01\n",
       "min    -1.56   -0.84  -1.56  -0.82  -1.17\n",
       "25%    -0.94   -0.84  -0.51  -0.82  -1.17\n",
       "50%    -0.04   -0.84   0.01  -0.82  -0.27\n",
       "75%     0.91    1.19   0.53   1.22   0.63\n",
       "max     1.69    1.19   1.57   1.22   1.53"
      ]
     },
     "execution_count": 23,
     "metadata": {},
     "output_type": "execute_result"
    }
   ],
   "source": [
    "np.round(x_train_new.describe() , 2)"
   ]
  },
  {
   "cell_type": "code",
   "execution_count": null,
   "id": "30e700cb-ce14-45c9-b7a9-2c16bb1f70f1",
   "metadata": {},
   "outputs": [],
   "source": []
  },
  {
   "cell_type": "code",
   "execution_count": null,
   "id": "c6dc972f-78fd-4a88-8e7b-0df5b441ffdb",
   "metadata": {},
   "outputs": [],
   "source": []
  },
  {
   "cell_type": "code",
   "execution_count": 24,
   "id": "b69aeef6-442a-4f58-8e47-770e3c31c7ba",
   "metadata": {},
   "outputs": [],
   "source": [
    "df = pd.read_csv(\"C:\\\\Users\\\\HP\\\\OneDrive\\\\Desktop\\\\DATASET\\\\tips - tips.csv\")"
   ]
  },
  {
   "cell_type": "code",
   "execution_count": 25,
   "id": "c0d0787e-de4f-4b8b-bc50-c2d3e653ce03",
   "metadata": {},
   "outputs": [
    {
     "data": {
      "text/html": [
       "<div>\n",
       "<style scoped>\n",
       "    .dataframe tbody tr th:only-of-type {\n",
       "        vertical-align: middle;\n",
       "    }\n",
       "\n",
       "    .dataframe tbody tr th {\n",
       "        vertical-align: top;\n",
       "    }\n",
       "\n",
       "    .dataframe thead th {\n",
       "        text-align: right;\n",
       "    }\n",
       "</style>\n",
       "<table border=\"1\" class=\"dataframe\">\n",
       "  <thead>\n",
       "    <tr style=\"text-align: right;\">\n",
       "      <th></th>\n",
       "      <th>total_bill</th>\n",
       "      <th>tip</th>\n",
       "      <th>sex</th>\n",
       "      <th>smoker</th>\n",
       "      <th>day</th>\n",
       "      <th>time</th>\n",
       "      <th>size</th>\n",
       "    </tr>\n",
       "  </thead>\n",
       "  <tbody>\n",
       "    <tr>\n",
       "      <th>0</th>\n",
       "      <td>16.99</td>\n",
       "      <td>1.01</td>\n",
       "      <td>Female</td>\n",
       "      <td>No</td>\n",
       "      <td>Sun</td>\n",
       "      <td>Dinner</td>\n",
       "      <td>2</td>\n",
       "    </tr>\n",
       "    <tr>\n",
       "      <th>1</th>\n",
       "      <td>10.34</td>\n",
       "      <td>1.66</td>\n",
       "      <td>Male</td>\n",
       "      <td>No</td>\n",
       "      <td>Sun</td>\n",
       "      <td>Dinner</td>\n",
       "      <td>3</td>\n",
       "    </tr>\n",
       "    <tr>\n",
       "      <th>2</th>\n",
       "      <td>21.01</td>\n",
       "      <td>3.50</td>\n",
       "      <td>Male</td>\n",
       "      <td>No</td>\n",
       "      <td>Sun</td>\n",
       "      <td>Dinner</td>\n",
       "      <td>3</td>\n",
       "    </tr>\n",
       "  </tbody>\n",
       "</table>\n",
       "</div>"
      ],
      "text/plain": [
       "   total_bill   tip     sex smoker  day    time  size\n",
       "0       16.99  1.01  Female     No  Sun  Dinner     2\n",
       "1       10.34  1.66    Male     No  Sun  Dinner     3\n",
       "2       21.01  3.50    Male     No  Sun  Dinner     3"
      ]
     },
     "execution_count": 25,
     "metadata": {},
     "output_type": "execute_result"
    }
   ],
   "source": [
    "df.head(3)"
   ]
  },
  {
   "cell_type": "code",
   "execution_count": 26,
   "id": "cf2c2187-f1e8-40c3-b3c4-d9ec8cc90c0a",
   "metadata": {},
   "outputs": [
    {
     "data": {
      "text/plain": [
       "total_bill    0\n",
       "tip           0\n",
       "sex           0\n",
       "smoker        0\n",
       "day           0\n",
       "time          0\n",
       "size          0\n",
       "dtype: int64"
      ]
     },
     "execution_count": 26,
     "metadata": {},
     "output_type": "execute_result"
    }
   ],
   "source": [
    "df.isnull().sum()"
   ]
  },
  {
   "cell_type": "code",
   "execution_count": 27,
   "id": "7c156877-e4b9-42f0-96a9-dc86bdc2cce8",
   "metadata": {},
   "outputs": [],
   "source": [
    "from sklearn.preprocessing import LabelEncoder"
   ]
  },
  {
   "cell_type": "code",
   "execution_count": 28,
   "id": "f25cc7f8-5423-4558-94fa-cfe58a96aacb",
   "metadata": {},
   "outputs": [],
   "source": [
    "lb = LabelEncoder()"
   ]
  },
  {
   "cell_type": "code",
   "execution_count": 29,
   "id": "954183d7-6cd4-4dd0-bc96-1731766b2c79",
   "metadata": {},
   "outputs": [],
   "source": [
    "df['sex'] = lb.fit_transform(df['sex'])\n",
    "df['smoker'] = lb.fit_transform(df['smoker'])\n",
    "df['day'] = lb.fit_transform(df['day'])\n",
    "df['time'] = lb.fit_transform(df['time'])"
   ]
  },
  {
   "cell_type": "code",
   "execution_count": 30,
   "id": "9e19ddbb-67ac-416c-96c3-9898f8f05810",
   "metadata": {},
   "outputs": [
    {
     "data": {
      "text/html": [
       "<div>\n",
       "<style scoped>\n",
       "    .dataframe tbody tr th:only-of-type {\n",
       "        vertical-align: middle;\n",
       "    }\n",
       "\n",
       "    .dataframe tbody tr th {\n",
       "        vertical-align: top;\n",
       "    }\n",
       "\n",
       "    .dataframe thead th {\n",
       "        text-align: right;\n",
       "    }\n",
       "</style>\n",
       "<table border=\"1\" class=\"dataframe\">\n",
       "  <thead>\n",
       "    <tr style=\"text-align: right;\">\n",
       "      <th></th>\n",
       "      <th>total_bill</th>\n",
       "      <th>tip</th>\n",
       "      <th>sex</th>\n",
       "      <th>smoker</th>\n",
       "      <th>day</th>\n",
       "      <th>time</th>\n",
       "      <th>size</th>\n",
       "    </tr>\n",
       "  </thead>\n",
       "  <tbody>\n",
       "    <tr>\n",
       "      <th>0</th>\n",
       "      <td>16.99</td>\n",
       "      <td>1.01</td>\n",
       "      <td>0</td>\n",
       "      <td>0</td>\n",
       "      <td>2</td>\n",
       "      <td>0</td>\n",
       "      <td>2</td>\n",
       "    </tr>\n",
       "    <tr>\n",
       "      <th>1</th>\n",
       "      <td>10.34</td>\n",
       "      <td>1.66</td>\n",
       "      <td>1</td>\n",
       "      <td>0</td>\n",
       "      <td>2</td>\n",
       "      <td>0</td>\n",
       "      <td>3</td>\n",
       "    </tr>\n",
       "    <tr>\n",
       "      <th>2</th>\n",
       "      <td>21.01</td>\n",
       "      <td>3.50</td>\n",
       "      <td>1</td>\n",
       "      <td>0</td>\n",
       "      <td>2</td>\n",
       "      <td>0</td>\n",
       "      <td>3</td>\n",
       "    </tr>\n",
       "  </tbody>\n",
       "</table>\n",
       "</div>"
      ],
      "text/plain": [
       "   total_bill   tip  sex  smoker  day  time  size\n",
       "0       16.99  1.01    0       0    2     0     2\n",
       "1       10.34  1.66    1       0    2     0     3\n",
       "2       21.01  3.50    1       0    2     0     3"
      ]
     },
     "execution_count": 30,
     "metadata": {},
     "output_type": "execute_result"
    }
   ],
   "source": [
    "df.head(3)"
   ]
  },
  {
   "cell_type": "code",
   "execution_count": 31,
   "id": "0ac40acb-2e1f-4582-bf76-0be78966c141",
   "metadata": {},
   "outputs": [],
   "source": [
    "x= df.drop(columns = ['total_bill'])\n",
    "y = df['total_bill']"
   ]
  },
  {
   "cell_type": "code",
   "execution_count": 32,
   "id": "f16f363f-1cbd-4dee-b9d6-8132bf34862c",
   "metadata": {},
   "outputs": [],
   "source": [
    "x_train , x_test ,y_train, y_test = train_test_split(x,y,test_size = 0.2 ,random_state = 42)"
   ]
  },
  {
   "cell_type": "code",
   "execution_count": 33,
   "id": "2a1464af-98e8-4219-bc47-8f4d2a28ff19",
   "metadata": {},
   "outputs": [],
   "source": [
    "from sklearn.preprocessing import MinMaxScaler # normalization happens here"
   ]
  },
  {
   "cell_type": "code",
   "execution_count": 34,
   "id": "61654d21-01db-4ca7-9f77-5f3db08a2605",
   "metadata": {},
   "outputs": [],
   "source": [
    "mn = MinMaxScaler()"
   ]
  },
  {
   "cell_type": "code",
   "execution_count": 35,
   "id": "a7258789-8a3a-45d3-8948-8c9d11dafeee",
   "metadata": {},
   "outputs": [],
   "source": [
    "x_train_mn = mn.fit_transform(x_train)"
   ]
  },
  {
   "cell_type": "code",
   "execution_count": 36,
   "id": "68437b0c-bf2f-45e2-a0f2-2cf0fb659300",
   "metadata": {},
   "outputs": [],
   "source": [
    "x_train_new = pd.DataFrame(x_train_mn ,columns = x_train.columns)"
   ]
  },
  {
   "cell_type": "code",
   "execution_count": 37,
   "id": "2079772f-a9a4-454e-899c-db1fe85379f0",
   "metadata": {},
   "outputs": [
    {
     "data": {
      "text/html": [
       "<div>\n",
       "<style scoped>\n",
       "    .dataframe tbody tr th:only-of-type {\n",
       "        vertical-align: middle;\n",
       "    }\n",
       "\n",
       "    .dataframe tbody tr th {\n",
       "        vertical-align: top;\n",
       "    }\n",
       "\n",
       "    .dataframe thead th {\n",
       "        text-align: right;\n",
       "    }\n",
       "</style>\n",
       "<table border=\"1\" class=\"dataframe\">\n",
       "  <thead>\n",
       "    <tr style=\"text-align: right;\">\n",
       "      <th></th>\n",
       "      <th>tip</th>\n",
       "      <th>sex</th>\n",
       "      <th>smoker</th>\n",
       "      <th>day</th>\n",
       "      <th>time</th>\n",
       "      <th>size</th>\n",
       "    </tr>\n",
       "  </thead>\n",
       "  <tbody>\n",
       "    <tr>\n",
       "      <th>count</th>\n",
       "      <td>195.00</td>\n",
       "      <td>195.00</td>\n",
       "      <td>195.00</td>\n",
       "      <td>195.00</td>\n",
       "      <td>195.00</td>\n",
       "      <td>195.00</td>\n",
       "    </tr>\n",
       "    <tr>\n",
       "      <th>mean</th>\n",
       "      <td>0.23</td>\n",
       "      <td>0.65</td>\n",
       "      <td>0.38</td>\n",
       "      <td>0.57</td>\n",
       "      <td>0.27</td>\n",
       "      <td>0.31</td>\n",
       "    </tr>\n",
       "    <tr>\n",
       "      <th>std</th>\n",
       "      <td>0.16</td>\n",
       "      <td>0.48</td>\n",
       "      <td>0.49</td>\n",
       "      <td>0.31</td>\n",
       "      <td>0.45</td>\n",
       "      <td>0.19</td>\n",
       "    </tr>\n",
       "    <tr>\n",
       "      <th>min</th>\n",
       "      <td>0.00</td>\n",
       "      <td>0.00</td>\n",
       "      <td>0.00</td>\n",
       "      <td>0.00</td>\n",
       "      <td>0.00</td>\n",
       "      <td>0.00</td>\n",
       "    </tr>\n",
       "    <tr>\n",
       "      <th>25%</th>\n",
       "      <td>0.11</td>\n",
       "      <td>0.00</td>\n",
       "      <td>0.00</td>\n",
       "      <td>0.33</td>\n",
       "      <td>0.00</td>\n",
       "      <td>0.20</td>\n",
       "    </tr>\n",
       "    <tr>\n",
       "      <th>50%</th>\n",
       "      <td>0.22</td>\n",
       "      <td>1.00</td>\n",
       "      <td>0.00</td>\n",
       "      <td>0.67</td>\n",
       "      <td>0.00</td>\n",
       "      <td>0.20</td>\n",
       "    </tr>\n",
       "    <tr>\n",
       "      <th>75%</th>\n",
       "      <td>0.30</td>\n",
       "      <td>1.00</td>\n",
       "      <td>1.00</td>\n",
       "      <td>0.67</td>\n",
       "      <td>1.00</td>\n",
       "      <td>0.40</td>\n",
       "    </tr>\n",
       "    <tr>\n",
       "      <th>max</th>\n",
       "      <td>1.00</td>\n",
       "      <td>1.00</td>\n",
       "      <td>1.00</td>\n",
       "      <td>1.00</td>\n",
       "      <td>1.00</td>\n",
       "      <td>1.00</td>\n",
       "    </tr>\n",
       "  </tbody>\n",
       "</table>\n",
       "</div>"
      ],
      "text/plain": [
       "          tip     sex  smoker     day    time    size\n",
       "count  195.00  195.00  195.00  195.00  195.00  195.00\n",
       "mean     0.23    0.65    0.38    0.57    0.27    0.31\n",
       "std      0.16    0.48    0.49    0.31    0.45    0.19\n",
       "min      0.00    0.00    0.00    0.00    0.00    0.00\n",
       "25%      0.11    0.00    0.00    0.33    0.00    0.20\n",
       "50%      0.22    1.00    0.00    0.67    0.00    0.20\n",
       "75%      0.30    1.00    1.00    0.67    1.00    0.40\n",
       "max      1.00    1.00    1.00    1.00    1.00    1.00"
      ]
     },
     "execution_count": 37,
     "metadata": {},
     "output_type": "execute_result"
    }
   ],
   "source": [
    "np.round(x_train_new.describe(),2)"
   ]
  },
  {
   "cell_type": "markdown",
   "id": "c6ec26f8-4f8c-4e81-aa9c-70db189ecc6f",
   "metadata": {},
   "source": [
    "## 2) OrdinalEncoder"
   ]
  },
  {
   "cell_type": "code",
   "execution_count": 44,
   "id": "d5c1edbe-5d0d-4139-a020-61c5acb8d59c",
   "metadata": {},
   "outputs": [],
   "source": [
    "df = pd.read_csv(\"C:\\\\Users\\\\HP\\\\OneDrive\\\\Desktop\\\\DATASET\\\\covid_toy - covid_toy.csv\")"
   ]
  },
  {
   "cell_type": "code",
   "execution_count": 45,
   "id": "13cc2c59-89b9-450f-b94c-de1a3ee4d145",
   "metadata": {},
   "outputs": [],
   "source": [
    "df = df.drop(columns = ['age' , 'fever'])"
   ]
  },
  {
   "cell_type": "code",
   "execution_count": 46,
   "id": "b31f0117-c529-46a4-9c7f-031635859bdb",
   "metadata": {},
   "outputs": [
    {
     "data": {
      "text/html": [
       "<div>\n",
       "<style scoped>\n",
       "    .dataframe tbody tr th:only-of-type {\n",
       "        vertical-align: middle;\n",
       "    }\n",
       "\n",
       "    .dataframe tbody tr th {\n",
       "        vertical-align: top;\n",
       "    }\n",
       "\n",
       "    .dataframe thead th {\n",
       "        text-align: right;\n",
       "    }\n",
       "</style>\n",
       "<table border=\"1\" class=\"dataframe\">\n",
       "  <thead>\n",
       "    <tr style=\"text-align: right;\">\n",
       "      <th></th>\n",
       "      <th>gender</th>\n",
       "      <th>cough</th>\n",
       "      <th>city</th>\n",
       "      <th>has_covid</th>\n",
       "    </tr>\n",
       "  </thead>\n",
       "  <tbody>\n",
       "    <tr>\n",
       "      <th>0</th>\n",
       "      <td>Male</td>\n",
       "      <td>Mild</td>\n",
       "      <td>Kolkata</td>\n",
       "      <td>No</td>\n",
       "    </tr>\n",
       "    <tr>\n",
       "      <th>1</th>\n",
       "      <td>Male</td>\n",
       "      <td>Mild</td>\n",
       "      <td>Delhi</td>\n",
       "      <td>Yes</td>\n",
       "    </tr>\n",
       "    <tr>\n",
       "      <th>2</th>\n",
       "      <td>Male</td>\n",
       "      <td>Mild</td>\n",
       "      <td>Delhi</td>\n",
       "      <td>No</td>\n",
       "    </tr>\n",
       "  </tbody>\n",
       "</table>\n",
       "</div>"
      ],
      "text/plain": [
       "  gender cough     city has_covid\n",
       "0   Male  Mild  Kolkata        No\n",
       "1   Male  Mild    Delhi       Yes\n",
       "2   Male  Mild    Delhi        No"
      ]
     },
     "execution_count": 46,
     "metadata": {},
     "output_type": "execute_result"
    }
   ],
   "source": [
    "df.head(3)"
   ]
  },
  {
   "cell_type": "code",
   "execution_count": 47,
   "id": "584102b4-6e7f-4b72-ba19-fccf48011be4",
   "metadata": {},
   "outputs": [],
   "source": [
    "from sklearn.preprocessing import OrdinalEncoder"
   ]
  },
  {
   "cell_type": "code",
   "execution_count": 48,
   "id": "9f576c95-8c32-4539-bdb7-9c0e07de2a8d",
   "metadata": {},
   "outputs": [],
   "source": [
    "oe = OrdinalEncoder(categories = [['Male' , 'Female'],\n",
    "                                 ['Mild' , 'Strong'],\n",
    "                                 ['Kolkata' ,'Bangalore' , 'Delhi' , 'Mumbai' ],\n",
    "                                 ['Yes' , 'No']])"
   ]
  },
  {
   "cell_type": "code",
   "execution_count": 49,
   "id": "4bf78ba9-7886-4e56-89f5-021333b2bceb",
   "metadata": {},
   "outputs": [],
   "source": [
    "oe_sc = oe.fit_transform(df) "
   ]
  },
  {
   "cell_type": "code",
   "execution_count": 52,
   "id": "0df84a13-837f-4eaf-8587-d13577e7138f",
   "metadata": {},
   "outputs": [
    {
     "data": {
      "text/html": [
       "<div>\n",
       "<style scoped>\n",
       "    .dataframe tbody tr th:only-of-type {\n",
       "        vertical-align: middle;\n",
       "    }\n",
       "\n",
       "    .dataframe tbody tr th {\n",
       "        vertical-align: top;\n",
       "    }\n",
       "\n",
       "    .dataframe thead th {\n",
       "        text-align: right;\n",
       "    }\n",
       "</style>\n",
       "<table border=\"1\" class=\"dataframe\">\n",
       "  <thead>\n",
       "    <tr style=\"text-align: right;\">\n",
       "      <th></th>\n",
       "      <th>gender</th>\n",
       "      <th>cough</th>\n",
       "      <th>city</th>\n",
       "      <th>has_covid</th>\n",
       "    </tr>\n",
       "  </thead>\n",
       "  <tbody>\n",
       "    <tr>\n",
       "      <th>0</th>\n",
       "      <td>0.0</td>\n",
       "      <td>0.0</td>\n",
       "      <td>0.0</td>\n",
       "      <td>1.0</td>\n",
       "    </tr>\n",
       "    <tr>\n",
       "      <th>1</th>\n",
       "      <td>0.0</td>\n",
       "      <td>0.0</td>\n",
       "      <td>2.0</td>\n",
       "      <td>0.0</td>\n",
       "    </tr>\n",
       "    <tr>\n",
       "      <th>2</th>\n",
       "      <td>0.0</td>\n",
       "      <td>0.0</td>\n",
       "      <td>2.0</td>\n",
       "      <td>1.0</td>\n",
       "    </tr>\n",
       "  </tbody>\n",
       "</table>\n",
       "</div>"
      ],
      "text/plain": [
       "   gender  cough  city  has_covid\n",
       "0     0.0    0.0   0.0        1.0\n",
       "1     0.0    0.0   2.0        0.0\n",
       "2     0.0    0.0   2.0        1.0"
      ]
     },
     "execution_count": 52,
     "metadata": {},
     "output_type": "execute_result"
    }
   ],
   "source": [
    "new_df = pd.DataFrame(oe_sc , columns =df.columns)\n",
    "new_df.head(3)"
   ]
  },
  {
   "cell_type": "code",
   "execution_count": 53,
   "id": "07ad1a16-278d-422e-a702-869b76c2f81a",
   "metadata": {},
   "outputs": [
    {
     "data": {
      "text/html": [
       "<div>\n",
       "<style scoped>\n",
       "    .dataframe tbody tr th:only-of-type {\n",
       "        vertical-align: middle;\n",
       "    }\n",
       "\n",
       "    .dataframe tbody tr th {\n",
       "        vertical-align: top;\n",
       "    }\n",
       "\n",
       "    .dataframe thead th {\n",
       "        text-align: right;\n",
       "    }\n",
       "</style>\n",
       "<table border=\"1\" class=\"dataframe\">\n",
       "  <thead>\n",
       "    <tr style=\"text-align: right;\">\n",
       "      <th></th>\n",
       "      <th>gender</th>\n",
       "      <th>cough</th>\n",
       "      <th>city</th>\n",
       "      <th>has_covid</th>\n",
       "    </tr>\n",
       "  </thead>\n",
       "  <tbody>\n",
       "    <tr>\n",
       "      <th>0</th>\n",
       "      <td>0</td>\n",
       "      <td>0</td>\n",
       "      <td>0</td>\n",
       "      <td>1</td>\n",
       "    </tr>\n",
       "    <tr>\n",
       "      <th>1</th>\n",
       "      <td>0</td>\n",
       "      <td>0</td>\n",
       "      <td>2</td>\n",
       "      <td>0</td>\n",
       "    </tr>\n",
       "    <tr>\n",
       "      <th>2</th>\n",
       "      <td>0</td>\n",
       "      <td>0</td>\n",
       "      <td>2</td>\n",
       "      <td>1</td>\n",
       "    </tr>\n",
       "    <tr>\n",
       "      <th>3</th>\n",
       "      <td>1</td>\n",
       "      <td>0</td>\n",
       "      <td>0</td>\n",
       "      <td>1</td>\n",
       "    </tr>\n",
       "  </tbody>\n",
       "</table>\n",
       "</div>"
      ],
      "text/plain": [
       "   gender  cough  city  has_covid\n",
       "0       0      0     0          1\n",
       "1       0      0     2          0\n",
       "2       0      0     2          1\n",
       "3       1      0     0          1"
      ]
     },
     "execution_count": 53,
     "metadata": {},
     "output_type": "execute_result"
    }
   ],
   "source": [
    "new_df = new_df.astype(int)\n",
    "new_df.head(4)"
   ]
  },
  {
   "cell_type": "code",
   "execution_count": null,
   "id": "639d3d9e-9e4c-4395-b10f-2c4d183934c9",
   "metadata": {},
   "outputs": [],
   "source": []
  },
  {
   "cell_type": "code",
   "execution_count": null,
   "id": "077d2d08-bec5-4428-a19a-ae0856d17b32",
   "metadata": {},
   "outputs": [],
   "source": []
  }
 ],
 "metadata": {
  "kernelspec": {
   "display_name": "Python 3 (ipykernel)",
   "language": "python",
   "name": "python3"
  },
  "language_info": {
   "codemirror_mode": {
    "name": "ipython",
    "version": 3
   },
   "file_extension": ".py",
   "mimetype": "text/x-python",
   "name": "python",
   "nbconvert_exporter": "python",
   "pygments_lexer": "ipython3",
   "version": "3.12.7"
  }
 },
 "nbformat": 4,
 "nbformat_minor": 5
}
